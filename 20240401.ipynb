{
  "cells": [
    {
      "cell_type": "markdown",
      "metadata": {
        "id": "view-in-github",
        "colab_type": "text"
      },
      "source": [
        "<a href=\"https://colab.research.google.com/github/castelwoah/Capstone-Design/blob/main/20240401.ipynb\" target=\"_parent\"><img src=\"https://colab.research.google.com/assets/colab-badge.svg\" alt=\"Open In Colab\"/></a>"
      ]
    },
    {
      "cell_type": "code",
      "execution_count": null,
      "metadata": {
        "id": "tY24SGCHicTA",
        "outputId": "5ddde658-bd85-4ca1-892f-377c8c7f16fc"
      },
      "outputs": [
        {
          "data": {
            "text/plain": [
              "3"
            ]
          },
          "execution_count": 34,
          "metadata": {},
          "output_type": "execute_result"
        }
      ],
      "source": [
        "1+2"
      ]
    },
    {
      "cell_type": "code",
      "execution_count": null,
      "metadata": {
        "id": "drAjhr4iicTC",
        "outputId": "c2e95f54-0fcd-4109-c70c-f418c46b4f9a"
      },
      "outputs": [
        {
          "name": "stdout",
          "output_type": "stream",
          "text": [
            "hello world\n"
          ]
        }
      ],
      "source": [
        "print(\"hello world\")"
      ]
    },
    {
      "cell_type": "markdown",
      "metadata": {
        "id": "jrbH8onvicTD"
      },
      "source": [
        "# (#title)\n",
        "## (## content)\n",
        "### (### content)"
      ]
    },
    {
      "cell_type": "markdown",
      "metadata": {
        "id": "NNBdkXIJicTE"
      },
      "source": [
        "# cell 전환\n",
        "- 비주얼모드 : m -> markdown cell\n",
        "- markdow cell -> 비주얼 모드 -> y = python cell"
      ]
    },
    {
      "cell_type": "code",
      "execution_count": null,
      "metadata": {
        "id": "leDIZIxlicTF"
      },
      "outputs": [],
      "source": [
        "a = 10"
      ]
    },
    {
      "cell_type": "code",
      "execution_count": null,
      "metadata": {
        "id": "s9JCthEticTF",
        "outputId": "6914ccc5-2bc3-4efb-bc16-55f5d7c50ba3"
      },
      "outputs": [
        {
          "name": "stdout",
          "output_type": "stream",
          "text": [
            "20.0\n"
          ]
        }
      ],
      "source": [
        "b = 10.\n",
        "\n",
        "c = a+b\n",
        "print(c)"
      ]
    },
    {
      "cell_type": "code",
      "execution_count": null,
      "metadata": {
        "id": "mubwb2auicTG",
        "outputId": "8b880f21-5b4b-4383-969f-100fd9af48ed"
      },
      "outputs": [
        {
          "name": "stdout",
          "output_type": "stream",
          "text": [
            "<class 'float'>\n",
            "<class 'list'>\n"
          ]
        }
      ],
      "source": [
        "print(type(c))\n",
        "\n",
        "c = []\n",
        "print(type(c))"
      ]
    },
    {
      "cell_type": "code",
      "execution_count": null,
      "metadata": {
        "id": "TuHyw9AxicTG"
      },
      "outputs": [],
      "source": []
    },
    {
      "cell_type": "code",
      "execution_count": null,
      "metadata": {
        "id": "-1VJyjC5icTG",
        "outputId": "3136f0e2-149e-47d7-d613-c2d020e8b63b"
      },
      "outputs": [
        {
          "data": {
            "text/plain": [
              "['__call__',\n",
              " '__class__',\n",
              " '__delattr__',\n",
              " '__dir__',\n",
              " '__doc__',\n",
              " '__eq__',\n",
              " '__format__',\n",
              " '__ge__',\n",
              " '__getattribute__',\n",
              " '__gt__',\n",
              " '__hash__',\n",
              " '__init__',\n",
              " '__init_subclass__',\n",
              " '__le__',\n",
              " '__lt__',\n",
              " '__module__',\n",
              " '__name__',\n",
              " '__ne__',\n",
              " '__new__',\n",
              " '__qualname__',\n",
              " '__reduce__',\n",
              " '__reduce_ex__',\n",
              " '__repr__',\n",
              " '__self__',\n",
              " '__setattr__',\n",
              " '__sizeof__',\n",
              " '__str__',\n",
              " '__subclasshook__',\n",
              " '__text_signature__']"
            ]
          },
          "execution_count": 39,
          "metadata": {},
          "output_type": "execute_result"
        }
      ],
      "source": [
        "list1 = [1,2,3,\n",
        "\n",
        "         ]\n",
        "dir(list1.remove)"
      ]
    },
    {
      "cell_type": "code",
      "execution_count": null,
      "metadata": {
        "id": "oYwJAP1gicTH",
        "outputId": "80444e14-8c05-49d9-8b16-8738160d64f6"
      },
      "outputs": [
        {
          "data": {
            "text/plain": [
              "[1, 2, 3]"
            ]
          },
          "execution_count": 40,
          "metadata": {},
          "output_type": "execute_result"
        }
      ],
      "source": [
        "list1"
      ]
    },
    {
      "cell_type": "code",
      "execution_count": null,
      "metadata": {
        "id": "bOSftRTBicTH",
        "outputId": "47446033-df00-45ea-8fc1-7c330a9f7a50"
      },
      "outputs": [
        {
          "ename": "NameError",
          "evalue": "name 'linst2' is not defined",
          "output_type": "error",
          "traceback": [
            "\u001b[0;31m---------------------------------------------------------------------------\u001b[0m",
            "\u001b[0;31mNameError\u001b[0m                                 Traceback (most recent call last)",
            "Cell \u001b[0;32mIn[41], line 2\u001b[0m\n\u001b[1;32m      1\u001b[0m list2 \u001b[38;5;241m=\u001b[39m [\u001b[38;5;124m'\u001b[39m\u001b[38;5;124ma\u001b[39m\u001b[38;5;124m'\u001b[39m, \u001b[38;5;124m'\u001b[39m\u001b[38;5;124mb\u001b[39m\u001b[38;5;124m'\u001b[39m, \u001b[38;5;124m'\u001b[39m\u001b[38;5;124mc\u001b[39m\u001b[38;5;124m'\u001b[39m, \u001b[38;5;124m'\u001b[39m\u001b[38;5;124md\u001b[39m\u001b[38;5;124m'\u001b[39m, \u001b[38;5;124m'\u001b[39m\u001b[38;5;124me\u001b[39m\u001b[38;5;124m'\u001b[39m, \u001b[38;5;124m'\u001b[39m\u001b[38;5;124mg\u001b[39m\u001b[38;5;124m'\u001b[39m]\n\u001b[0;32m----> 2\u001b[0m \u001b[38;5;28mlen\u001b[39m(\u001b[43mlinst2\u001b[49m)\n",
            "\u001b[0;31mNameError\u001b[0m: name 'linst2' is not defined"
          ]
        }
      ],
      "source": [
        "list2 = ['a', 'b', 'c', 'd', 'e', 'g']\n",
        "len(linst2)"
      ]
    },
    {
      "cell_type": "code",
      "execution_count": null,
      "metadata": {
        "id": "VZLAQCHlicTI",
        "outputId": "3ff730e1-3b05-4d3a-90b2-c281cabad35a"
      },
      "outputs": [
        {
          "name": "stdout",
          "output_type": "stream",
          "text": [
            "Defaulting to user installation because normal site-packages is not writeable\n",
            "Requirement already satisfied: pandas in /home/swp/.local/lib/python3.10/site-packages (2.2.1)\n",
            "Requirement already satisfied: python-dateutil>=2.8.2 in /home/swp/.local/lib/python3.10/site-packages (from pandas) (2.9.0.post0)\n",
            "Requirement already satisfied: pytz>=2020.1 in /home/swp/.local/lib/python3.10/site-packages (from pandas) (2024.1)\n",
            "Requirement already satisfied: numpy<2,>=1.22.4 in /home/swp/.local/lib/python3.10/site-packages (from pandas) (1.26.4)\n",
            "Requirement already satisfied: tzdata>=2022.7 in /home/swp/.local/lib/python3.10/site-packages (from pandas) (2024.1)\n",
            "Requirement already satisfied: six>=1.5 in /usr/lib/python3/dist-packages (from python-dateutil>=2.8.2->pandas) (1.16.0)\n",
            "Note: you may need to restart the kernel to use updated packages.\n"
          ]
        }
      ],
      "source": [
        "pip install pandas"
      ]
    },
    {
      "cell_type": "code",
      "execution_count": null,
      "metadata": {
        "id": "5Lo398jFicTJ",
        "outputId": "5a4d328f-d972-44d6-9449-ffea673ff3ad"
      },
      "outputs": [
        {
          "name": "stdout",
          "output_type": "stream",
          "text": [
            "Defaulting to user installation because normal site-packages is not writeable\n",
            "Requirement already satisfied: lxml in /home/swp/.local/lib/python3.10/site-packages (5.2.0)\n",
            "Note: you may need to restart the kernel to use updated packages.\n"
          ]
        }
      ],
      "source": [
        "pip install lxml"
      ]
    },
    {
      "cell_type": "code",
      "execution_count": null,
      "metadata": {
        "id": "sLnSVE4YicTJ",
        "outputId": "c1dcc222-9a9d-4428-d42d-5119c9d6ac91"
      },
      "outputs": [
        {
          "data": {
            "text/plain": [
              "'요어싶 고먹 을빵 도늘오'"
            ]
          },
          "execution_count": 45,
          "metadata": {},
          "output_type": "execute_result"
        }
      ],
      "source": [
        "text1 = \"오늘도 빵을 먹고 싶어요\"\n",
        "text1[::-1]"
      ]
    },
    {
      "cell_type": "code",
      "execution_count": null,
      "metadata": {
        "id": "iLDOzHgUicTJ",
        "outputId": "7fa76cba-bc8b-4112-de6e-4b7ecfdace67"
      },
      "outputs": [
        {
          "data": {
            "text/plain": [
              "['오늘도', '빵을', '먹고', '싶어요']"
            ]
          },
          "execution_count": 48,
          "metadata": {},
          "output_type": "execute_result"
        }
      ],
      "source": [
        "text1.split()"
      ]
    },
    {
      "cell_type": "code",
      "execution_count": null,
      "metadata": {
        "id": "VVf49AmCicTK"
      },
      "outputs": [],
      "source": []
    },
    {
      "cell_type": "code",
      "execution_count": null,
      "metadata": {
        "id": "76JYbLk0icTK"
      },
      "outputs": [],
      "source": [
        "text4 = \"\"\"오늘도 아침엔 입에 빵을 물고\n",
        "똑같이 하루를 시작하고\n",
        "온종일 한 손엔 아이스 아메리카노\n",
        "피곤해 죽겠네\n",
        "\n",
        "지하철 속 이 장면 어제 꿈에서 봤나\n",
        "아참 매일이지 지나치고\n",
        "바쁜 이 삶에 그냥 흔한 날에\n",
        "그 애를 보고 말야\n",
        "\n",
        "평온했던 하늘이 무너지고\n",
        "어둡던 눈앞이 붉어지며\n",
        "뭔가 잊고 온 게 있는 것 같아\n",
        "괜히 이상하게 막 울 것만 같고\n",
        "그냥 지나치는 게 나을 것 같아\n",
        "나는 생각은 딱 질색이니까\n",
        "\n",
        "카페인으로 잡은 정신은 빠졌고\n",
        "하루 종일 신경 쓰여 토할 것 같아\n",
        "저녁이 돼도 배고픔까지 까먹고\n",
        "그치 이상하지 근데 말야 있잖아\n",
        "\n",
        "처음 본 순간 뭐라 할까 그립달까\n",
        "나도 웃긴데 말야\n",
        "\n",
        "평온했던 하늘이 무너지고\n",
        "어둡던 눈앞이 붉어지며\n",
        "뭔가 잊고 온 게 있는 것 같아\n",
        "괜히 이상하게 막 울 것만 같고\n",
        "그냥 지나치는 게 나을 것 같아\n",
        "나는 생각은 딱 질색이니까\n",
        "\n",
        "오랫동안 나를 아는\n",
        "슬픈 표정을 하고 Oh\n",
        "흔적 없는 기억 밖\n",
        "혹 과거에 미래에 딴 차원에 세계에\n",
        "1 2 3 4 5 6 7 8\n",
        "\n",
        "평온했던 하늘이 무너지고\n",
        "어둡던 눈앞이 붉어져도\n",
        "다시 놓쳐버리는 것만 같아\n",
        "괜히 이상하게 막 울 것만 같고\n",
        "그냥 지나치는 게 나을 것 같아\n",
        "나는 생각은 딱 질색이니까\n",
        "\n",
        "아냐 지나치는 게 나을 것 같아\n",
        "나는 아픈 건 딱 질색이니까\"\"\"\n"
      ]
    },
    {
      "cell_type": "code",
      "execution_count": null,
      "metadata": {
        "id": "f_VXNMVwicTK",
        "outputId": "8973043c-b011-4e47-acf6-f8bed69b41d7"
      },
      "outputs": [
        {
          "data": {
            "text/plain": [
              "184"
            ]
          },
          "execution_count": 51,
          "metadata": {},
          "output_type": "execute_result"
        }
      ],
      "source": [
        "len(text4.split())"
      ]
    },
    {
      "cell_type": "code",
      "execution_count": null,
      "metadata": {
        "id": "LOscU0R1icTK"
      },
      "outputs": [],
      "source": [
        "loan = \"김미영팀장입니다. {}님께서는 최저이율로 최고 3000만원까지 입금 가능합니다.\""
      ]
    },
    {
      "cell_type": "code",
      "execution_count": null,
      "metadata": {
        "id": "LcxIateRicTL",
        "outputId": "aba11f1b-3fdc-4591-99b0-9e4684e77583"
      },
      "outputs": [
        {
          "name": "stdout",
          "output_type": "stream",
          "text": [
            "김미영팀장입니다. 권시은님께서는 최저이율로 최고 3000만원까지 입금 가능합니다.\n",
            "김미영팀장입니다. 기석광님께서는 최저이율로 최고 3000만원까지 입금 가능합니다.\n",
            "김미영팀장입니다. 김가현님께서는 최저이율로 최고 3000만원까지 입금 가능합니다.\n",
            "김미영팀장입니다. 김기호님께서는 최저이율로 최고 3000만원까지 입금 가능합니다.\n",
            "김미영팀장입니다. 김대건님께서는 최저이율로 최고 3000만원까지 입금 가능합니다.\n",
            "김미영팀장입니다. 김동현님께서는 최저이율로 최고 3000만원까지 입금 가능합니다.\n",
            "김미영팀장입니다. 김승주님께서는 최저이율로 최고 3000만원까지 입금 가능합니다.\n",
            "김미영팀장입니다. 김예송님께서는 최저이율로 최고 3000만원까지 입금 가능합니다.\n",
            "김미영팀장입니다. 김하영님께서는 최저이율로 최고 3000만원까지 입금 가능합니다.\n",
            "김미영팀장입니다. 김현지님께서는 최저이율로 최고 3000만원까지 입금 가능합니다.\n",
            "김미영팀장입니다. 노석현님께서는 최저이율로 최고 3000만원까지 입금 가능합니다.\n",
            "김미영팀장입니다. 박성우님께서는 최저이율로 최고 3000만원까지 입금 가능합니다.\n",
            "김미영팀장입니다. 변수현님께서는 최저이율로 최고 3000만원까지 입금 가능합니다.\n",
            "김미영팀장입니다. 신소영님께서는 최저이율로 최고 3000만원까지 입금 가능합니다.\n",
            "김미영팀장입니다. 원정인님께서는 최저이율로 최고 3000만원까지 입금 가능합니다.\n",
            "김미영팀장입니다. 유선우님께서는 최저이율로 최고 3000만원까지 입금 가능합니다.\n",
            "김미영팀장입니다. 유정연님께서는 최저이율로 최고 3000만원까지 입금 가능합니다.\n",
            "김미영팀장입니다. 이서연님께서는 최저이율로 최고 1억만원까지 입금 가능합니다.\n",
            "김미영팀장입니다. 이재연님께서는 최저이율로 최고 1억만원까지 입금 가능합니다.\n",
            "김미영팀장입니다. 이충원님께서는 최저이율로 최고 1억만원까지 입금 가능합니다.\n",
            "김미영팀장입니다. 이하은님께서는 최저이율로 최고 1억만원까지 입금 가능합니다.\n",
            "김미영팀장입니다. 이희재님께서는 최저이율로 최고 1억만원까지 입금 가능합니다.\n",
            "김미영팀장입니다. 정다인님께서는 최저이율로 최고 3000만원까지 입금 가능합니다.\n",
            "김미영팀장입니다. 조명아님께서는 최저이율로 최고 3000만원까지 입금 가능합니다.\n",
            "김미영팀장입니다. 조태식님께서는 최저이율로 최고 3000만원까지 입금 가능합니다.\n",
            "김미영팀장입니다. 조혜민님께서는 최저이율로 최고 3000만원까지 입금 가능합니다.\n",
            "김미영팀장입니다. 차민혁님께서는 최저이율로 최고 3000만원까지 입금 가능합니다.\n",
            "김미영팀장입니다. 최성현님께서는 최저이율로 최고 3000만원까지 입금 가능합니다.\n",
            "김미영팀장입니다. 최태성님께서는 최저이율로 최고 3000만원까지 입금 가능합니다.\n",
            "김미영팀장입니다. 한다솜님께서는 최저이율로 최고 3000만원까지 입금 가능합니다.\n",
            "30\n"
          ]
        }
      ],
      "source": [
        "name = [\"권시은\",\"기석광\",\"김가현\",\"김기호\",\"김대건\",\"김동현\",\"김승주\",\"김예송\",\"김하영\",\"김현지\",\"노석현\",\"박성우\",\"변수현\",\"신소영\",\"원정인\",\"유선우\",\"유정연\",\"이서연\",\"이재연\",\"이충원\",\"이하은\",\"이희재\",\"정다인\",\"조명아\",\"조태식\",\"조혜민\",\"차민혁\",\"최성현\",\"최태성\",\"한다솜\"]\n",
        "\n",
        "loan = \"김미영팀장입니다. {}님께서는 최저이율로 최고 {}만원까지 입금 가능합니다.\"\n",
        "\n",
        "for i in name:\n",
        "    if i[0] == \"이\":\n",
        "        print(loan.format(i, \"1억\"))\n",
        "    else:\n",
        "        print(loan.format(i, \"3000\"))\n",
        "\n",
        "print(len(name))"
      ]
    },
    {
      "cell_type": "code",
      "execution_count": null,
      "metadata": {
        "id": "ntSn3t9xicTL",
        "outputId": "a32e9750-b832-4766-ae14-c15d24ad069e"
      },
      "outputs": [
        {
          "name": "stdout",
          "output_type": "stream",
          "text": [
            "true\n"
          ]
        }
      ],
      "source": [
        "if 50 < 60:\n",
        "    print(\"true\")\n",
        "elif 40 < 50:\n",
        "    print(\"false\")"
      ]
    },
    {
      "cell_type": "code",
      "execution_count": null,
      "metadata": {
        "id": "gydygTE5icTL",
        "outputId": "a3b4d14f-394c-4cd2-8300-fbb01637e95b"
      },
      "outputs": [
        {
          "data": {
            "text/plain": [
              "True"
            ]
          },
          "execution_count": 70,
          "metadata": {},
          "output_type": "execute_result"
        }
      ],
      "source": [
        "True and False or not False"
      ]
    },
    {
      "cell_type": "code",
      "execution_count": null,
      "metadata": {
        "id": "MJpbhrfEicTL"
      },
      "outputs": [],
      "source": [
        "import requests"
      ]
    },
    {
      "cell_type": "code",
      "execution_count": null,
      "metadata": {
        "id": "c2blUsmuicTM"
      },
      "outputs": [],
      "source": [
        "url = \"https://www.starbucks.co.kr/store/getStore.do?r=EXRPGE2OU7\"\n",
        "payload = {\"in_biz_cds\" : \"0\",\"in_scodes\" : \"0\",\"ins_lat\" : \"37.4947\",\"ins_lng\" : \"127.0493\",\"search_text\" : \"\",\"p_sido_cd\" : \"01\",\"p_gugun_cd\" : \"\",\"isError\" : \"true\",\"in_distance\" : \"0\",\"in_biz_cd\" : \"\",\"iend\" : \"1000\",\"searchType\" : \"C\",\"set_date\" : \"\",\"rndCod\" : \"Q878EXUG04\",\"all_store\" : \"0\",\"T03\" : \"0\",\"T01\" : \"0\",\"T27\" : \"0\",\"T12\" : \"0\",\"T09\" : \"0\",\"T30\" : \"0\",\"T05\" : \"0\",\"T22\" : \"0\",\"T21\" : \"0\",\"T10\" : \"0\",\"T36\" : \"0\",\"T43\" : \"0\",\"T48\" : \"0\",\"Z9999\" : \"0\",\"P02\" : \"0\",\"P10\" : \"0\",\"P50\" : \"0\",\"P20\" : \"0\",\"P60\" : \"0\",\"P30\" : \"0\",\"P70\" : \"0\",\"P40\" : \"0\",\"P80\" : \"0\",\"whcroad_yn\" : \"0\",\"P90\" : \"0\",\"P01\" : \"0\",\"new_bool\" : \"0\",}\n",
        "r = requests.post(url, data=payload)\n",
        "data = r.json()"
      ]
    },
    {
      "cell_type": "code",
      "execution_count": null,
      "metadata": {
        "id": "26j7LcoiicTM",
        "outputId": "30d23abb-b828-43d5-b223-7dc0ec1783f4"
      },
      "outputs": [
        {
          "name": "stdout",
          "output_type": "stream",
          "text": [
            "612\n",
            "hello\n"
          ]
        }
      ],
      "source": [
        "print(len(data['list']))\n",
        "print(\"hello\")"
      ]
    },
    {
      "cell_type": "markdown",
      "metadata": {
        "id": "fab5ExeqicTM"
      },
      "source": [
        "# 2일차"
      ]
    },
    {
      "cell_type": "code",
      "execution_count": null,
      "metadata": {
        "id": "hQ0MgTgeicTM"
      },
      "outputs": [],
      "source": []
    },
    {
      "cell_type": "code",
      "execution_count": null,
      "metadata": {
        "id": "wl5LYX5XicTM"
      },
      "outputs": [],
      "source": []
    },
    {
      "cell_type": "code",
      "execution_count": null,
      "metadata": {
        "id": "NtN0O8EJicTM"
      },
      "outputs": [],
      "source": []
    },
    {
      "cell_type": "code",
      "execution_count": null,
      "metadata": {
        "id": "OPS15OOBicTN"
      },
      "outputs": [],
      "source": []
    },
    {
      "cell_type": "code",
      "execution_count": null,
      "metadata": {
        "id": "UjXZVUvOicTN"
      },
      "outputs": [],
      "source": []
    },
    {
      "cell_type": "code",
      "execution_count": null,
      "metadata": {
        "id": "j1NrOqlKicTN"
      },
      "outputs": [],
      "source": []
    },
    {
      "cell_type": "code",
      "execution_count": null,
      "metadata": {
        "id": "7k2gvq38icTN"
      },
      "outputs": [],
      "source": []
    }
  ],
  "metadata": {
    "kernelspec": {
      "display_name": "Python 3 (ipykernel)",
      "language": "python",
      "name": "python3"
    },
    "language_info": {
      "codemirror_mode": {
        "name": "ipython",
        "version": 3
      },
      "file_extension": ".py",
      "mimetype": "text/x-python",
      "name": "python",
      "nbconvert_exporter": "python",
      "pygments_lexer": "ipython3",
      "version": "3.undefined.undefined"
    },
    "colab": {
      "provenance": [],
      "include_colab_link": true
    }
  },
  "nbformat": 4,
  "nbformat_minor": 0
}